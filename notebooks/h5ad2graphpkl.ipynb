{
 "cells": [
  {
   "cell_type": "code",
   "execution_count": 1,
   "metadata": {},
   "outputs": [],
   "source": [
    "%matplotlib inline\n",
    "%load_ext memory_profiler\n",
    "\n",
    "import os\n",
    "import time\n",
    "import datetime\n",
    "import sys\n",
    "import pickle\n",
    "import scanpy as sc\n",
    "from scipy import sparse\n",
    "import numpy as np\n",
    "from sklearn.model_selection import train_test_split\n",
    "\n",
    "sc.settings.verbosity=2"
   ]
  },
  {
   "cell_type": "markdown",
   "metadata": {},
   "source": [
    "#### Load AnnData obj"
   ]
  },
  {
   "cell_type": "code",
   "execution_count": 2,
   "metadata": {},
   "outputs": [
    {
     "name": "stdout",
     "output_type": "stream",
     "text": [
      "loaded @200601.11:32:33\n",
      "took 21.08-s to load data\n",
      "peak memory: 18413.05 MiB, increment: 18229.24 MiB\n"
     ]
    },
    {
     "name": "stderr",
     "output_type": "stream",
     "text": [
      "/gpfs/ycga/project/dijk/ngr4/conda_envs/rnavel/lib/python3.7/site-packages/anndata/compat/__init__.py:161: FutureWarning: Moving element from .uns['neighbors']['distances'] to .obsp['distances'].\n",
      "\n",
      "This is where adjacency matrices should go now.\n",
      "  FutureWarning,\n",
      "/gpfs/ycga/project/dijk/ngr4/conda_envs/rnavel/lib/python3.7/site-packages/anndata/compat/__init__.py:161: FutureWarning: Moving element from .uns['neighbors']['connectivities'] to .obsp['connectivities'].\n",
      "\n",
      "This is where adjacency matrices should go now.\n",
      "  FutureWarning,\n"
     ]
    }
   ],
   "source": [
    "\n",
    "# fps\n",
    "sdfp = '/home/ngr4/project/sccovid/shared/data/processed/'\n",
    "pfp = '/home/ngr4/project/sccovid/results/'\n",
    "pdfp = '/home/ngr4/project/sccovid/data/processed/'\n",
    "sc.settings.figdir = pfp\n",
    "\n",
    "def loader(fname,fpath,backed=None) : \n",
    "    start = time.time()\n",
    "    adata = sc.read_h5ad(filename=os.path.join(fpath,fname),backed=backed)\n",
    "    print('loaded @'+datetime.datetime.now().strftime('%y%m%d.%H:%M:%S'))\n",
    "    print('took {:.2f}-s to load data'.format(time.time()-start))\n",
    "    return adata\n",
    "\n",
    "def writer(fname,fpath,AnnData) :\n",
    "    start = time.time()\n",
    "    AnnData.write(os.path.join(fpath,fname))\n",
    "    print('saved @'+datetime.datetime.now().strftime('%y%m%d.%H:%M:%S'))\n",
    "    print('took {:.2f}-s to save data'.format(time.time()-start))\n",
    "    \n",
    "\n",
    "if True :\n",
    "    # load personal\n",
    "    fname='scv2_200428.h5ad'\n",
    "    %memit adata = loader(fname,pdfp)\n",
    "\n",
    "    \n"
   ]
  },
  {
   "cell_type": "code",
   "execution_count": 3,
   "metadata": {},
   "outputs": [],
   "source": [
    "pfp = '/home/ngr4/project/edge_feat/results'\n",
    "def pklthat(gdata, fname, fpath=pdfp): \n",
    "    with open(os.path.join(fpath,fname),'wb') as f :\n",
    "        pickle.dump(gdata, f, protocol=pickle.HIGHEST_PROTOCOL)\n",
    "        f.close()\n",
    "        \n",
    "pklthat(adata.var_names.to_list(), 'hbec_feat_names.pkl', fpath=pfp)"
   ]
  },
  {
   "cell_type": "markdown",
   "metadata": {},
   "source": [
    "# Induction\n",
    "\n",
    "Sample 1/3 of the data randomly, grab labels"
   ]
  },
  {
   "cell_type": "code",
   "execution_count": 3,
   "metadata": {},
   "outputs": [
    {
     "name": "stdout",
     "output_type": "stream",
     "text": [
      "computing PCA\n",
      "    with n_comps=100\n",
      "    finished (0:03:24)\n",
      "computing batch balanced neighbors\n",
      "\tfinished (0:00:14)\n",
      "computing PCA\n",
      "    with n_comps=100\n"
     ]
    },
    {
     "name": "stderr",
     "output_type": "stream",
     "text": [
      "/gpfs/ycga/project/dijk/ngr4/conda_envs/rnavel/lib/python3.7/site-packages/bbknn/__init__.py:294: FutureWarning: This location for 'distances' is deprecated. It has been moved to .obsp[distances], and will not be accesible here in a future version of anndata.\n",
      "  adata.uns['neighbors']['distances'] = bbknn_out[0]\n",
      "/gpfs/ycga/project/dijk/ngr4/conda_envs/rnavel/lib/python3.7/site-packages/bbknn/__init__.py:295: FutureWarning: This location for 'connectivities' is deprecated. It has been moved to .obsp[connectivities], and will not be accesible here in a future version of anndata.\n",
      "  adata.uns['neighbors']['connectivities'] = bbknn_out[1]\n"
     ]
    },
    {
     "name": "stdout",
     "output_type": "stream",
     "text": [
      "    finished (0:01:54)\n",
      "computing batch balanced neighbors\n",
      "\tfinished (0:00:02)\n",
      "computing PCA\n",
      "    with n_comps=100\n"
     ]
    },
    {
     "name": "stderr",
     "output_type": "stream",
     "text": [
      "/gpfs/ycga/project/dijk/ngr4/conda_envs/rnavel/lib/python3.7/site-packages/bbknn/__init__.py:294: FutureWarning: This location for 'distances' is deprecated. It has been moved to .obsp[distances], and will not be accesible here in a future version of anndata.\n",
      "  adata.uns['neighbors']['distances'] = bbknn_out[0]\n",
      "/gpfs/ycga/project/dijk/ngr4/conda_envs/rnavel/lib/python3.7/site-packages/bbknn/__init__.py:295: FutureWarning: This location for 'connectivities' is deprecated. It has been moved to .obsp[connectivities], and will not be accesible here in a future version of anndata.\n",
      "  adata.uns['neighbors']['connectivities'] = bbknn_out[1]\n"
     ]
    },
    {
     "name": "stdout",
     "output_type": "stream",
     "text": [
      "    finished (0:01:52)\n",
      "computing batch balanced neighbors\n",
      "\tfinished (0:00:02)\n"
     ]
    },
    {
     "name": "stderr",
     "output_type": "stream",
     "text": [
      "/gpfs/ycga/project/dijk/ngr4/conda_envs/rnavel/lib/python3.7/site-packages/bbknn/__init__.py:294: FutureWarning: This location for 'distances' is deprecated. It has been moved to .obsp[distances], and will not be accesible here in a future version of anndata.\n",
      "  adata.uns['neighbors']['distances'] = bbknn_out[0]\n",
      "/gpfs/ycga/project/dijk/ngr4/conda_envs/rnavel/lib/python3.7/site-packages/bbknn/__init__.py:295: FutureWarning: This location for 'connectivities' is deprecated. It has been moved to .obsp[connectivities], and will not be accesible here in a future version of anndata.\n",
      "  adata.uns['neighbors']['connectivities'] = bbknn_out[1]\n"
     ]
    }
   ],
   "source": [
    "# split the data AND kick out mock infected cells as these are noise\n",
    "idx_train, idx_test = train_test_split(adata.obs.index, train_size=0.7)\n",
    "tdata = sc.AnnData(X=adata[(adata.obs.index.isin(idx_train)) & (~((adata.obs['Condition']=='Mock') & (adata.obs['scv2_10+']==1))),:].X,\n",
    "                   obs=adata[(adata.obs.index.isin(idx_train)) & (~((adata.obs['Condition']=='Mock') & (adata.obs['scv2_10+']==1))),:].obs)\n",
    "idx_val, idx_test = train_test_split(idx_test, train_size=0.5)\n",
    "val = sc.AnnData(X=adata[(adata.obs.index.isin(idx_val)) & (~((adata.obs['Condition']=='Mock') & (adata.obs['scv2_10+']==1))),:].X, \n",
    "                  obs=adata[(adata.obs.index.isin(idx_val)) & (~((adata.obs['Condition']=='Mock') & (adata.obs['scv2_10+']==1))),:].obs)\n",
    "test = sc.AnnData(X=adata[(adata.obs.index.isin(idx_test)) & (~((adata.obs['Condition']=='Mock') & (adata.obs['scv2_10+']==1))),:].X, \n",
    "                  obs=adata[(adata.obs.index.isin(idx_test)) & (~((adata.obs['Condition']=='Mock') & (adata.obs['scv2_10+']==1))),:].obs)\n",
    "\n",
    "def graph_pp(AnnData, bbknn=False):\n",
    "    sc.tl.pca(AnnData, n_comps=100)\n",
    "    if bbknn:\n",
    "        sc.external.pp.bbknn(AnnData) # use default params\n",
    "    else:\n",
    "        sc.pp.neighbors(AnnData, n_pcs=100, n_neighbors=30)\n",
    "    return AnnData\n",
    "\n",
    "# make graph\n",
    "tdata = graph_pp(tdata, bbknn=True)\n",
    "val = graph_pp(val, bbknn=True)\n",
    "test = graph_pp(test, bbknn=True)\n",
    "\n",
    "del adata"
   ]
  },
  {
   "cell_type": "markdown",
   "metadata": {},
   "source": [
    "## Encoding \n",
    "\n",
    "Select tasks for prediction\n",
    "\n",
    "1. yctype \n",
    "2. scv2_10+ (already encoded)\n",
    "3. yinftime (infection + condition)\n"
   ]
  },
  {
   "cell_type": "code",
   "execution_count": 5,
   "metadata": {},
   "outputs": [],
   "source": [
    "# encode ctype \n",
    "ctype_encoder = {v:i for i,v in enumerate(tdata.obs['ctype'].unique())}\n",
    "tdata.obs['yctype'] = tdata.obs['ctype'].map(ctype_encoder)\n",
    "val.obs['yctype'] = val.obs['ctype'].map(ctype_encoder)\n",
    "test.obs['yctype'] = test.obs['ctype'].map(ctype_encoder)\n",
    "\n",
    "# encode inftime\n",
    "tdata.obs['inf_timepoint'] = tdata.obs['scv2_10+'].astype(str) + tdata.obs['Condition'].astype(str).apply(lambda x: '_{}'.format(x))\n",
    "val.obs['inf_timepoint'] = val.obs['scv2_10+'].astype(str) + val.obs['Condition'].astype(str).apply(lambda x: '_{}'.format(x))\n",
    "test.obs['inf_timepoint'] = test.obs['scv2_10+'].astype(str) + test.obs['Condition'].astype(str).apply(lambda x: '_{}'.format(x))\n",
    "\n",
    "gt_encoder = {v:i for i,v in enumerate(tdata.obs['inf_timepoint'].unique())}\n",
    "tdata.obs['yinftime'] = tdata.obs['inf_timepoint'].map(gt_encoder)\n",
    "val.obs['yinftime'] = val.obs['inf_timepoint'].map(gt_encoder)\n",
    "test.obs['yinftime'] = test.obs['inf_timepoint'].map(gt_encoder)\n"
   ]
  },
  {
   "cell_type": "code",
   "execution_count": 8,
   "metadata": {},
   "outputs": [
    {
     "name": "stderr",
     "output_type": "stream",
     "text": [
      "/gpfs/ycga/project/dijk/ngr4/conda_envs/rnavel/lib/python3.7/site-packages/ipykernel_launcher.py:32: FutureWarning: This location for 'connectivities' is deprecated. It has been moved to .obsp[connectivities], and will not be accesible here in a future version of anndata.\n",
      "/gpfs/ycga/project/dijk/ngr4/conda_envs/rnavel/lib/python3.7/site-packages/ipykernel_launcher.py:32: FutureWarning: This location for 'connectivities' is deprecated. It has been moved to .obsp[connectivities], and will not be accesible here in a future version of anndata.\n",
      "/gpfs/ycga/project/dijk/ngr4/conda_envs/rnavel/lib/python3.7/site-packages/ipykernel_launcher.py:32: FutureWarning: This location for 'connectivities' is deprecated. It has been moved to .obsp[connectivities], and will not be accesible here in a future version of anndata.\n"
     ]
    }
   ],
   "source": [
    "# create dictionary\n",
    "def dictthat(AnnData, gene_ranger=True):\n",
    "    \"\"\"Prep dictionary for export.\n",
    "    \n",
    "    If gene_ranger, divide by zero can occur for \n",
    "    non-expressing genes. Thus, will floor those\n",
    "    to 0.\n",
    "    \n",
    "    NOTE: customization re:y to predict is highly\n",
    "    dependent on user input. ERGO, modify this \n",
    "    \n",
    "    Arguments:\n",
    "        AnnData (sc.AnnData): with graph stuff\n",
    "        \n",
    "    Returns:\n",
    "        dict\n",
    "    \"\"\"\n",
    "    if gene_ranger:\n",
    "        # each gene in [0,1], divide by zeros to 0\n",
    "        minimum = AnnData.X.min(axis=0)\n",
    "        maximum = AnnData.X.max(axis=0)\n",
    "        num = AnnData.X - minimum.todense()\n",
    "        denom =  (maximum - minimum).todense()\n",
    "        xhat = np.divide(num, denom, out=np.zeros_like(num), where=denom!=0) \n",
    "    else:\n",
    "        # matrix in [0,1]\n",
    "        xhat = (AnnData.X - AnnData.X.min()) / (AnnData.X.max() - AnnData.X.min())\n",
    "        \n",
    "    \n",
    "\n",
    "    gdata = {'X':xhat,\n",
    "             'adj':AnnData.uns['neighbors']['connectivities']+sparse.diags([1]*AnnData.shape[0], format='csr'),\n",
    "             'feature_names':AnnData.var_names.to_list()}\n",
    "    gdata['cell_id'] = AnnData.obs.index.to_list()\n",
    "    for col in AnnData.obs.columns:\n",
    "        gdata[col] = AnnData.obs[col].to_list()\n",
    "    \n",
    "    return gdata\n",
    "\n",
    "gdata_train = dictthat(tdata)\n",
    "gdata_val = dictthat(val)\n",
    "gdata_test  = dictthat(test)\n",
    "\n"
   ]
  },
  {
   "cell_type": "code",
   "execution_count": 9,
   "metadata": {},
   "outputs": [],
   "source": [
    "# export\n",
    "def pklthat(gdata, fname, fpath=pdfp): \n",
    "    with open(os.path.join(fpath,fname),'wb') as f :\n",
    "        pickle.dump(gdata, f, protocol=pickle.HIGHEST_PROTOCOL)\n",
    "        f.close()\n",
    "\n",
    "pklthat(gdata_train, 'hbec_train_200528.pkl')\n",
    "pklthat(gdata_val, 'hbec_val_200528.pkl')\n",
    "pklthat(gdata_test, 'hbec_test_200528.pkl')\n",
    "\n",
    "# clean\n",
    "if False:\n",
    "    del tdata, test, gdata_train, gdata_test"
   ]
  },
  {
   "cell_type": "code",
   "execution_count": 11,
   "metadata": {},
   "outputs": [],
   "source": [
    "def loadpkl(filename):\n",
    "    with open (filename, 'rb') as f:\n",
    "        temp = pickle.load(f)\n",
    "        f.close()\n",
    "    return temp\n",
    "\n",
    "def add_batch(filename, date='200529'):\n",
    "    gdata = loadpkl(filename)\n",
    "    batch_encoder = {v:i for i,v in enumerate(np.unique(gdata['batch']))}\n",
    "    gdata['ybatch'] = list(map(batch_encoder.get, gdata['batch']))\n",
    "    pklthat(gdata, '{}_{}.pkl'.format(os.path.split(filename)[1].split('_20')[0], date))\n",
    "    del gdata\n",
    "    print('\\nBatch added and pkl saved:\\n  {}_{}.pkl'.format(os.path.split(filename)[1].split('_20')[0], date))\n",
    "    "
   ]
  },
  {
   "cell_type": "code",
   "execution_count": 12,
   "metadata": {},
   "outputs": [
    {
     "name": "stdout",
     "output_type": "stream",
     "text": [
      "Batch added and pkl saved:\n",
      "  hbec_train_200529.pkl\n",
      "Batch added and pkl saved:\n",
      "  hbec_val_200529.pkl\n",
      "Batch added and pkl saved:\n",
      "  hbec_test_200529.pkl\n"
     ]
    }
   ],
   "source": [
    "add_batch(os.path.join(pdfp,'hbec_train_200528.pkl'))\n",
    "add_batch(os.path.join(pdfp,'hbec_val_200528.pkl'))\n",
    "add_batch(os.path.join(pdfp,'hbec_test_200528.pkl'))"
   ]
  },
  {
   "cell_type": "code",
   "execution_count": null,
   "metadata": {},
   "outputs": [],
   "source": []
  }
 ],
 "metadata": {
  "kernelspec": {
   "display_name": "Python 3",
   "language": "python",
   "name": "python3"
  },
  "language_info": {
   "codemirror_mode": {
    "name": "ipython",
    "version": 3
   },
   "file_extension": ".py",
   "mimetype": "text/x-python",
   "name": "python",
   "nbconvert_exporter": "python",
   "pygments_lexer": "ipython3",
   "version": "3.7.4"
  }
 },
 "nbformat": 4,
 "nbformat_minor": 4
}
